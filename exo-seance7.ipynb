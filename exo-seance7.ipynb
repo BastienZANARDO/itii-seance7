{
 "cells": [
  {
   "cell_type": "code",
   "execution_count": 6,
   "metadata": {},
   "outputs": [
    {
     "name": "stdout",
     "output_type": "stream",
     "text": [
      "A :  [[ 3  1  5]\n",
      " [ 9  8 -1]\n",
      " [10 12  2]]\n",
      "B :  [[ 8 -1  8]\n",
      " [ 2  1  3]\n",
      " [18  2 32]]\n",
      "A + B :  [[11  0 13]\n",
      " [11  9  2]\n",
      " [28 14 34]]\n"
     ]
    }
   ],
   "source": [
    "#Exo 1 \n",
    "#With numpy\n",
    "\n",
    "import numpy as np\n",
    "\n",
    "A = np.array ([ [3,1,5], [9, 8, -1], [10, 12 ,2] ])\n",
    "B = np.array ([ [8, -1, 8], [2, 1, 3], [18, 2, 32] ])\n",
    "\n",
    "C= A+B\n",
    "print(\"A : \",A)\n",
    "print(\"B : \",B)\n",
    "print(\"A + B : \",C)"
   ]
  },
  {
   "cell_type": "code",
   "execution_count": null,
   "metadata": {},
   "outputs": [],
   "source": [
    "#Exo 1 \n",
    "#Without numpy\n",
    "\n",
    "X = [ [3, 1, 5], \n",
    "    [9, 8, -1], \n",
    "    [10, 12 ,2] ]\n",
    "\n",
    "Y = [ [8, -1, 8], \n",
    "    [2, 1, 3], \n",
    "    [18, 2, 32] ]\n",
    "\n",
    "result = [[0,0,0],\n",
    "         [0,0,0],\n",
    "         [0,0,0]]\n",
    "\n",
    "for i in range (len(x)):\n",
    "    for j in range (len(X[0])):\n",
    "        result[i][j] = X[i][j] + Y[i][j]\n",
    "        "
   ]
  },
  {
   "cell_type": "code",
   "execution_count": 7,
   "metadata": {},
   "outputs": [
    {
     "name": "stdout",
     "output_type": "stream",
     "text": [
      "A :  [[ 3  1  5]\n",
      " [ 9  8 -1]\n",
      " [10 12  2]]\n",
      "B :  [[ 8 -1  8]\n",
      " [ 2  1  3]\n",
      " [18  2 32]]\n",
      "A * B :  [[116   8 187]\n",
      " [ 70  -3  64]\n",
      " [140   6 180]]\n"
     ]
    }
   ],
   "source": [
    "#Exo 2 \n",
    "\n",
    "import numpy as np\n",
    "\n",
    "A = np.array ([ [3, 1, 5], [9, 8, -1], [10, 12 ,2] ])\n",
    "B = np.array ([ [8, -1, 8], [2, 1, 3], [18, 2, 32] ])\n",
    "\n",
    "C = A.dot(B)\n",
    "\n",
    "print(\"A : \", A)\n",
    "print(\"B : \", B)\n",
    "print(\"A * B : \", C)"
   ]
  },
  {
   "cell_type": "code",
   "execution_count": 11,
   "metadata": {},
   "outputs": [],
   "source": [
    "#Ex3\n",
    "def eststochastique(P):\n",
    "    nl = len(P)  # nombre de lignes\n",
    "    nc = len(P[0])  # nombre de colonnes\n",
    " \n",
    "    etat = True  # on suppose que la matrice est stochastique\n",
    "    for i in range(nl):\n",
    "        s = 0\n",
    "        for j in range(nc):\n",
    "            s += P[i][j]\n",
    "        if s > 1:\n",
    "            etat = False\n",
    "            break\n",
    "    return etat\n",
    " \n",
    " \n",
    "def estbistochastique(P):\n",
    "    nl = len(P)  # nombre de lignes\n",
    "    nc = len(P[0])  # nombre de colonnes\n",
    " \n",
    "    etat = True  # on suppose que la matrice est bistochastique\n",
    "    if(eststochastique(P)):\n",
    "        for j in range(nc):\n",
    "            s = 0\n",
    "            for i in range(nl):\n",
    "                s += P[i][j]\n",
    "            if s > 1:\n",
    "                etat = False\n",
    "                break\n",
    "    return etat\n",
    " \n",
    " \n",
    "def vecteurstable(G, h):\n",
    "    nl = len(G)  # nombre de lignes\n",
    "    nc = len(G[0])  # nombre de colonnes\n",
    "    etat = True\n",
    "    if(eststochastique(G)):\n",
    "        for j in range(nc):\n",
    "            s = 0\n",
    "            for i in range(nl):\n",
    "                s += h[i]*G[i][j]\n",
    "            if s != h[j]:\n",
    "                etat = False\n",
    "                break\n",
    "    else:\n",
    "        etat = False\n",
    "    return etat"
   ]
  },
  {
   "cell_type": "code",
   "execution_count": 9,
   "metadata": {},
   "outputs": [
    {
     "name": "stdout",
     "output_type": "stream",
     "text": [
      "A :  [[ 3  1  5]\n",
      " [ 9  8 -1]\n",
      " [24 12  2]]\n",
      "Transposée de A :  [[ 3  9 24]\n",
      " [ 1  8 12]\n",
      " [ 5 -1  2]]\n"
     ]
    }
   ],
   "source": [
    "#Exo 4\n",
    "\n",
    "import numpy as np\n",
    "\n",
    "A= np.array([ [3, 1, 5], [9, 8, -1], [24, 12 ,2] ])\n",
    "\n",
    "C = A.transpose()\n",
    "\n",
    "print(\"A : \", A)\n",
    "print(\"Transposée de A : \",C)\n"
   ]
  },
  {
   "cell_type": "code",
   "execution_count": null,
   "metadata": {},
   "outputs": [],
   "source": [
    "#Ex5\n",
    "# appliquer une permutation\n",
    "def apply_permutation(A,perm,N):\n",
    "    B=np.empty_like(A) # A est une matrice NxN d'entiers dans range(N)\n",
    "    for i in range(N):\n",
    "            B[A[:]==i]=perm[i] # perm est une permutation de range(N)\n",
    "    return B"
   ]
  }
 ],
 "metadata": {
  "kernelspec": {
   "display_name": "Python 3",
   "language": "python",
   "name": "python3"
  },
  "language_info": {
   "codemirror_mode": {
    "name": "ipython",
    "version": 3
   },
   "file_extension": ".py",
   "mimetype": "text/x-python",
   "name": "python",
   "nbconvert_exporter": "python",
   "pygments_lexer": "ipython3",
   "version": "3.8.3"
  }
 },
 "nbformat": 4,
 "nbformat_minor": 4
}
